{
 "cells": [
  {
   "cell_type": "code",
   "execution_count": null,
   "metadata": {},
   "outputs": [],
   "source": []
  },
  {
   "cell_type": "code",
   "execution_count": 28,
   "metadata": {},
   "outputs": [
    {
     "name": "stdout",
     "output_type": "stream",
     "text": [
      "The inverse of V\n",
      "[[ 0.02545811 -0.00431973]\n",
      " [-0.00431973  0.04073297]]\n",
      "The coordinates of the centre of the ellipse:\n",
      "[2.23139091 2.06137759]\n",
      "utV_1u\n",
      "344.42034188495063\n",
      "The normalized matrix P\n",
      "[[ 0.9670626  -0.25453866]\n",
      " [ 0.25453866  0.9670626 ]]\n",
      "The diagonalized matrix D\n",
      "[[41.11652854  0.        ]\n",
      " [ 0.         23.88347146]]\n",
      "a 1.8414284624658943\n",
      "b 2.416096887079446\n"
     ]
    },
    {
     "data": {
      "image/png": "[encoded data removed]",
      "text/plain": [
       "<Figure size 432x288 with 1 Axes>"
      ]
     },
     "metadata": {
      "needs_background": "light"
     },
     "output_type": "display_data"
    }
   ],
   "source": [
    "import numpy as np\n",
    "import math\n",
    "import matplotlib.pyplot as plt\n",
    "from numpy import linalg as LA\n",
    "\n",
    "def ellipse_gen(a,b,center):\n",
    "    len = 50\n",
    "    theta = np.linspace(0,2*np.pi,len)\n",
    "    x_ellipse = np.zeros((2,len))\n",
    "    x_ellipse[0,:] = a*np.cos(theta) + center[0]   \n",
    "    x_ellipse[1,:] = b*np.sin(theta) + center[1]   \n",
    "    return x_ellipse\n",
    " \n",
    "#setting up plot\n",
    "fig = plt.figure()\n",
    "ax = fig.add_subplot(111, aspect='equal')\n",
    "len = 100\n",
    "y = np.linspace(-5,5,len)\n",
    " \n",
    "#Ellipse parameters\n",
    "V = np.array(([40,4.242],[4.242,25]))\n",
    "u = np.array(([-98,-61]))\n",
    "f = 205\n",
    "print(\"The inverse of V\")\n",
    "print(np.linalg.inv(V))\n",
    "#Computation\n",
    "utV_1u = np.matmul(np.matmul(u.T,np.linalg.inv(V)),u)\n",
    "c = -np.linalg.inv(V)@u\n",
    "print(\"The coordinates of the centre of the ellipse:\")\n",
    "print(c)\n",
    "print(\"utV_1u\")\n",
    "print(utV_1u)\n",
    "#Eigenvalues and eigenvectors\n",
    "D_vec,P = np.linalg.eig(V)\n",
    "D = np.diag(D_vec)\n",
    "a = np.sqrt((utV_1u-f)/D_vec[0])\n",
    "b = np.sqrt((utV_1u-f)/D_vec[1])\n",
    "xStandardEllipse = ellipse_gen(a,b,[0,0])\n",
    "print(\"The normalized matrix P\")\n",
    "print(P)\n",
    "print(\"The diagonalized matrix D\")\n",
    "print(D)\n",
    "print(\"a\",(a))\n",
    "print(\"b\",(b))\n",
    "#Major and Minor Axes\n",
    "MajorStandard = np.array(([a,0]))\n",
    "MinorStandard = np.array(([0,b]))\n",
    " \n",
    "#Affine transform \n",
    "Cs = np.array([[c[0],c[1]] for i in range(50)]).T\n",
    "xActualEllipse = P@xStandardEllipse + Cs # x = Py + c (Affine Transformation)\n",
    "MajorActual = P@MajorStandard+c[0]\n",
    "MinorActual = P@MinorStandard+c[1]\n",
    " \n",
    "#Plotting the standard ellipse\n",
    "plt.plot(xStandardEllipse[0,:],xStandardEllipse[1,:],label='Standard Ellipse')\n",
    " \n",
    "#Plotting the actual ellipse\n",
    "plt.plot(xActualEllipse[0,:],xActualEllipse[1,:],label='Actual Ellipse')\n",
    " \n",
    "#Labeling the coordinates\n",
    "tri_coords = np.vstack((MajorStandard,MinorStandard,MajorActual,MinorActual,c)).T\n",
    "plt.scatter(tri_coords[0,:], tri_coords[1,:])\n",
    "vert_labels = ['$a$','$b$','$a^{\\prime}$','$b^{\\prime}$','$\\mathbf{c^\\prime}$']\n",
    "for i, txt in enumerate(vert_labels):\n",
    "    plt.annotate(txt, # this is the text\n",
    "                 (tri_coords[0,i], tri_coords[1,i]), # this is the point to label\n",
    "                 textcoords=\"offset points\", # how to position the text\n",
    "                 xytext=(0,10), # distance from text to points (x,y)\n",
    "                 ha='center') # horizontal alignment can be left, right or center\n",
    "\n",
    "# Axis Plots\n",
    "x_ = np.linspace(-4,5,50)\n",
    "y_ = np.linspace(-4,5,50)\n",
    "y_1 = [0 for i in range(50)]          \n",
    "x_1 = [0 for i in range(50)]          \n",
    "plt.plot(x_, y_1, 'black')\n",
    "plt.plot(x_1,y_, 'black')\n",
    "\n",
    "plt.xlabel('$X Axis$')\n",
    "plt.ylabel('$Y Axis$')\n",
    "plt.legend(loc='best')\n",
    "plt.grid() \n",
    "plt.axis('equal')\n",
    " \n",
    "plt.show()"
   ]
  },
  {
   "cell_type": "code",
   "execution_count": null,
   "metadata": {},
   "outputs": [],
   "source": []
  },
  {
   "cell_type": "code",
   "execution_count": null,
   "metadata": {},
   "outputs": [],
   "source": []
  }
 ],
 "metadata": {
  "kernelspec": {
   "display_name": "Python 3",
   "language": "python",
   "name": "python3"
  },
  "language_info": {
   "codemirror_mode": {
    "name": "ipython",
    "version": 3
   },
   "file_extension": ".py",
   "mimetype": "text/x-python",
   "name": "python",
   "nbconvert_exporter": "python",
   "pygments_lexer": "ipython3",
   "version": "3.8.3"
  }
 },
 "nbformat": 4,
 "nbformat_minor": 4
}
