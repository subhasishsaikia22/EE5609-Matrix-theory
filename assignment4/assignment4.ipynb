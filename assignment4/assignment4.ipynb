{
 "cells": [
  {
   "cell_type": "code",
   "execution_count": 1,
   "metadata": {},
   "outputs": [
    {
     "name": "stdout",
     "output_type": "stream",
     "text": [
      "The given matrix A\n",
      "[[ 4 -3 12]\n",
      " [ 0  1  2]]\n",
      "The given matrix B\n",
      "[[ 4 -3 12]\n",
      " [ 3  4 24]]\n",
      "The given matrix C\n",
      "[[ 3  4 24]\n",
      " [ 0  1  2]]\n",
      "The row-reduced echelon form of matrix A and the pivot columns : (Matrix([\n",
      "[1, 0, 9/2],\n",
      "[0, 1,   2]]), (0, 1))\n",
      "The row-reduced echelon form of matrix B and the pivot columns : (Matrix([\n",
      "[1, 0, 24/5],\n",
      "[0, 1, 12/5]]), (0, 1))\n",
      "The row-reduced echelon form of matrix C and the pivot columns : (Matrix([\n",
      "[1, 0, 16/3],\n",
      "[0, 1,    2]]), (0, 1))\n"
     ]
    }
   ],
   "source": [
    "import math\n",
    "import matplotlib.pyplot as plt\n",
    "import numpy as np\n",
    "A = np.array([[4, -3, 12], \n",
    "              [0, 1, 2]]) \n",
    "B = np.array([[4, -3, 12], \n",
    "              [3, 4, 24]]) \n",
    "C = np.array([[3, 4, 24],  \n",
    "              [0, 1, 2]]) \n",
    "\n",
    "print(\"The given matrix A\")\n",
    "print((A))\n",
    "print(\"The given matrix B\")\n",
    "print((B))\n",
    "print(\"The given matrix C\")\n",
    "print((C))\n",
    "from sympy import * \n",
    "M = Matrix([[4, -3, 12],[0, 1, 2]]) \n",
    "P=Matrix([[4, -3, 12],[3, 4, 24]])\n",
    "Q=Matrix([[3, 4, 24],[0, 1, 2]])\n",
    "# Using sympy.rref() method  \n",
    "M_rref = M.rref() \n",
    "P_rref = P.rref() \n",
    "Q_rref = Q.rref() \n",
    "print(\"The row-reduced echelon form of matrix A and the pivot columns : {}\".format(M_rref)) \n",
    "print(\"The row-reduced echelon form of matrix B and the pivot columns : {}\".format(P_rref))  \n",
    "print(\"The row-reduced echelon form of matrix C and the pivot columns : {}\".format(Q_rref)) "
   ]
  },
  {
   "cell_type": "code",
   "execution_count": 65,
   "metadata": {},
   "outputs": [
    {
     "name": "stdout",
     "output_type": "stream",
     "text": [
      "Length of side opposite to vertex A\n",
      "a=0.6666666666666665\n",
      "Length of side opposite to vertex B\n",
      "b=0.833333333333333\n",
      "Length of side opposite to vertex C,\n",
      "c=0.49999999999999983\n",
      "the coordinates of the centre of the inscribed circle,\n",
      "x_o=4.833333333333333\n",
      "y_o=2.166666666666667\n",
      "the radius of the inscribed circle r_0=0.16666666666666644\n",
      "the coordinates of the centre of the escribed circle,\n",
      "p_o=5.500000000000001\n",
      "q_o=2.5\n",
      "the radius of the escribed circle r_e0=0.5000000000000007\n"
     ]
    },
    {
     "name": "stderr",
     "output_type": "stream",
     "text": [
      "C:\\Users\\HP\\anaconda3\\lib\\site-packages\\matplotlib\\text.py:1165: FutureWarning: elementwise comparison failed; returning scalar instead, but in the future will perform elementwise comparison\n",
      "  if s != self._text:\n"
     ]
    },
    {
     "data": {
      "image/png": "[encoded data removed]",
      "text/plain": [
       "<Figure size 432x288 with 1 Axes>"
      ]
     },
     "metadata": {
      "needs_background": "light"
     },
     "output_type": "display_data"
    }
   ],
   "source": [
    "import numpy as np\n",
    "import math\n",
    "import matplotlib.pyplot as plt\n",
    "from numpy import linalg as LA\n",
    "\n",
    "\n",
    "x = np.linspace(4,6,10)         \n",
    "A = np.array([9/2,2])\n",
    "B = np.array([24/5,12/5])\n",
    "C = np.array([16/3,2])\n",
    "a = math.sqrt( ((C[0]-B[0])**2)+((C[1]-B[1])**2) )\n",
    "b = math.sqrt( ((A[0]-C[0])**2)+((A[1]-C[1])**2) )\n",
    "c = math.sqrt( ((B[0]-A[0])**2)+((B[1]-A[1])**2) )\n",
    "print(\"Length of side opposite to vertex A\")\n",
    "print(\"a={}\".format(a))\n",
    "print(\"Length of side opposite to vertex B\")\n",
    "print(\"b={}\".format(b))\n",
    "print(\"Length of side opposite to vertex C,\")\n",
    "print(\"c={}\".format(c))\n",
    "x_o=((a*A[0])+(b*B[0])+(c*C[0]))/(a+b+c)\n",
    "y_o=((a*A[1])+(b*B[1])+(c*C[1]))/(a+b+c)\n",
    "r_0= abs((3*x_o)+(4*y_o)-24)/math.sqrt(((3**2)+(4**2)))\n",
    "print(\"the coordinates of the centre of the inscribed circle,\")\n",
    "print(\"x_o={}\".format(x_o))\n",
    "print(\"y_o={}\".format(y_o))\n",
    "print(\"the radius of the inscribed circle r_0={}\".format(r_0))\n",
    "p_o=((b*B[0])+(c*C[0])-(a*A[0]))/(b+c-a)\n",
    "q_o=((b*B[1])+(c*C[1])-(a*A[1]))/(b+c-a)\n",
    "r_e0=abs((3*p_o)+(4*q_o)-24)/math.sqrt(((3**2)+(4**2)))\n",
    "print(\"the coordinates of the centre of the escribed circle,\")\n",
    "print(\"p_o={}\".format(p_o))\n",
    "print(\"q_o={}\".format(q_o))\n",
    "print(\"the radius of the escribed circle r_e0={}\".format(r_e0))\n",
    "#Generating points on a circle\n",
    "def circ_gen(O,r):\n",
    "\tlen = 50\n",
    "\ttheta = np.linspace(0,2*np.pi,len)\n",
    "\tx_circ = np.zeros((2,len))\n",
    "\tx_circ[0,:] = r*np.cos(theta)\n",
    "\tx_circ[1,:] = r*np.sin(theta)\n",
    "\tx_circ = (x_circ.T + O).T\n",
    "\treturn x_circ\n",
    "#Input parameters\n",
    "O = np.array([4.833,2.166]) \n",
    "P = np.array([5.5,2.5])\n",
    "f_1=28.02\n",
    "f_2 = 36.25\n",
    "r_1 = np.sqrt(LA.norm(O)**2-f_1)\n",
    "r_2= np.sqrt(LA.norm(P)**2-f_2)\n",
    "# equation of line \n",
    "# y = (-a/b)*x + c/b\n",
    "y1 = (4/3)*x - 4\n",
    "y2 = (-3/4)*x + 6\n",
    "y3=(0)*x + 2\n",
    "x4 = [A[0],B[0],C[0]]\n",
    "y4 = [A[1],B[1],C[1]]\n",
    "\n",
    "##Generating the circle\n",
    "x_circ1= circ_gen(O,r_1)\n",
    "x_circ2= circ_gen(P,r_2)\n",
    "\n",
    "\n",
    "#Plotting the lines\n",
    "plt.plot(x, y1,label='4x-3y=12')\n",
    "plt.plot(x, y2,label='3x+4y=24')\n",
    "plt.plot(x, y3,label='y=2')    \n",
    "plt.plot(x4,y4,'og')\n",
    "plt.plot(x_o,y_o,'oy')\n",
    "plt.plot(p_o,q_o,'ob')\n",
    "#Plotting the circle\n",
    "plt.plot(x_circ1[0,:],x_circ1[1,:],label='$inscribed circle$')\n",
    "plt.plot(x_circ2[0,:],x_circ2[1,:],label='$escribed circle$')\n",
    "\n",
    "\n",
    "#labelling the coordinates\n",
    "coords = np.vstack((A,B,C,O,P)).T\n",
    "vert_labels = [A,B,C,O,P]\n",
    "for i, txt in enumerate(vert_labels):\n",
    "    plt.annotate(txt, # this is the text\n",
    "                 (coords[0,i] , coords[1,i]), # this is the point to label\n",
    "                 textcoords=\"offset points\", # how to position the text\n",
    "                 xytext=(0,1), # distance from text to points (x,y)\n",
    "                 ha='left') # horizontal alignment can be left, right or center\n",
    "\n",
    "plt.xlabel('$x-axis$')\n",
    "plt.ylabel('$y-axis$')\n",
    "\n",
    "plt.grid()\n",
    "plt.legend(loc='best')\n",
    "plt.axis('equal')\n",
    "plt.show()"
   ]
  },
  {
   "cell_type": "code",
   "execution_count": null,
   "metadata": {},
   "outputs": [],
   "source": []
  },
  {
   "cell_type": "code",
   "execution_count": null,
   "metadata": {},
   "outputs": [],
   "source": []
  },
  {
   "cell_type": "code",
   "execution_count": null,
   "metadata": {},
   "outputs": [],
   "source": []
  },
  {
   "cell_type": "code",
   "execution_count": null,
   "metadata": {},
   "outputs": [],
   "source": []
  },
  {
   "cell_type": "code",
   "execution_count": null,
   "metadata": {},
   "outputs": [],
   "source": []
  }
 ],
 "metadata": {
  "kernelspec": {
   "display_name": "Python 3",
   "language": "python",
   "name": "python3"
  },
  "language_info": {
   "codemirror_mode": {
    "name": "ipython",
    "version": 3
   },
   "file_extension": ".py",
   "mimetype": "text/x-python",
   "name": "python",
   "nbconvert_exporter": "python",
   "pygments_lexer": "ipython3",
   "version": "3.8.3"
  }
 },
 "nbformat": 4,
 "nbformat_minor": 4
}
