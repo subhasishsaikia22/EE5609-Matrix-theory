{
 "cells": [
  {
   "cell_type": "code",
   "execution_count": null,
   "metadata": {},
   "outputs": [],
   "source": []
  },
  {
   "cell_type": "code",
   "execution_count": 32,
   "metadata": {},
   "outputs": [
    {
     "name": "stdout",
     "output_type": "stream",
     "text": [
      "MM_T\n",
      "[[1.   0.   0.5 ]\n",
      " [0.   1.   1.  ]\n",
      " [0.5  1.   1.25]]\n",
      "M_TM\n",
      "[[1.25 0.5 ]\n",
      " [0.5  2.  ]]\n",
      "eigen value for MM_T\n",
      "[2.25000000e+00 1.00000000e+00 8.85768348e-17]\n",
      "normalized eigen vector for MM_T\n",
      "[[-2.98142397e-01 -8.94427191e-01 -3.33333333e-01]\n",
      " [-5.96284794e-01  4.47213595e-01 -6.66666667e-01]\n",
      " [-7.45355992e-01 -2.70547446e-16  6.66666667e-01]]\n",
      "eigen value for M_TM\n",
      "[1.   2.25]\n",
      "normalized eigen vector for M_TM\n",
      "[[-0.89442719 -0.4472136 ]\n",
      " [ 0.4472136  -0.89442719]]\n",
      "coordinates of the foot of the perpendicular\n",
      "[[-0.44444444]\n",
      " [ 0.11111111]]\n",
      "distance between the point of intersection of lines and plane: 1.4097719673762845\n"
     ]
    }
   ],
   "source": [
    "  \n",
    "import numpy as np\n",
    "from numpy.linalg import inv\n",
    "from numpy import linalg as LA\n",
    "\n",
    "M = np.array([[1,0],[0,1],[1/2,1]])\n",
    "P = np.array([[0],[1],[-1]])\n",
    "MM_T=np.dot(M,M.T)\n",
    "M_TM=np.dot(M.T,M)\n",
    "print('MM_T')\n",
    "print(MM_T)\n",
    "print('M_TM')\n",
    "print(M_TM)\n",
    "#Eigenvalues and eigenvectors\n",
    "D_vec1,P1 = np.linalg.eig(MM_T)\n",
    "D_vec2,P2 = np.linalg.eig(M_TM)\n",
    "print('eigen value for MM_T')\n",
    "print(D_vec1)\n",
    "print('normalized eigen vector for MM_T')\n",
    "print(P1)\n",
    "print('eigen value for M_TM')\n",
    "print(D_vec2)\n",
    "print('normalized eigen vector for M_TM')\n",
    "print(P2)\n",
    "#Singular Value Decomposition\n",
    "U, s, V=LA.svd(M)\n",
    "\n",
    "S = np.zeros(M.shape)\n",
    "Sinv = S.T\n",
    "S[:2,:2] = np.diag(s)\n",
    "sinv = 1./s\n",
    "\n",
    "#Moore Penrose Pseudo Inverse\n",
    "Sinv[:2,:2] = np.diag(sinv)\n",
    "\n",
    "#Solution\n",
    "x = V.T.dot(Sinv).dot(U.T).dot(P)\n",
    "print('coordinates of the foot of the perpendicular')\n",
    "print(x)\n",
    "Q=np.array([[-0.444],[ 0.111],[0]])\n",
    "PQ=np.linalg.norm(P-Q)\n",
    "print('distance between the point of intersection of lines and plane:',(PQ))"
   ]
  },
  {
   "cell_type": "code",
   "execution_count": null,
   "metadata": {},
   "outputs": [],
   "source": []
  },
  {
   "cell_type": "code",
   "execution_count": null,
   "metadata": {},
   "outputs": [],
   "source": []
  }
 ],
 "metadata": {
  "kernelspec": {
   "display_name": "Python 3",
   "language": "python",
   "name": "python3"
  },
  "language_info": {
   "codemirror_mode": {
    "name": "ipython",
    "version": 3
   },
   "file_extension": ".py",
   "mimetype": "text/x-python",
   "name": "python",
   "nbconvert_exporter": "python",
   "pygments_lexer": "ipython3",
   "version": "3.8.3"
  }
 },
 "nbformat": 4,
 "nbformat_minor": 4
}
