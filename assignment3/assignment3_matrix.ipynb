{
 "cells": [
  {
   "cell_type": "code",
   "execution_count": 1,
   "metadata": {},
   "outputs": [
    {
     "name": "stdout",
     "output_type": "stream",
     "text": [
      " Angle between the line and x-axis is :  59.99999999999999\n"
     ]
    },
    {
     "data": {
      "image/png": "[encoded data removed]",
      "text/plain": [
       "<Figure size 432x288 with 1 Axes>"
      ]
     },
     "metadata": {
      "needs_background": "light"
     },
     "output_type": "display_data"
    }
   ],
   "source": [
    "import numpy as np\n",
    "import math\n",
    "import matplotlib.pyplot as plt\n",
    "\n",
    "x = np.linspace(-10,10,50)\n",
    "n = np.array([1,math.sqrt(3)])    #directional vector of the line  n= np.array([a, b])\n",
    "nx= np.array([1,0])             #directional vector  x-axis\n",
    "A = np.array([2,-2])    #X = np.array([x,y])   vector line passing through\n",
    "                        # equation of line n^T X  = c  \n",
    "O = np.array([0,0]) \n",
    "\n",
    "unit_vector_1 = n / np.linalg.norm(n) #Calculating unit vector of vector1\n",
    "unit_vector_2 = nx / np.linalg.norm(nx)                     \n",
    "dot_product1 = np.dot(unit_vector_1, unit_vector_2)  \n",
    "angle1 = np.arccos(dot_product1) * 180 / math.pi\n",
    "print(\" Angle between the line and x-axis is : \", angle1)\n",
    "\n",
    "# equation of line \n",
    "# y = (-a/b)*x + c/b\n",
    "y3 = (0)*x + 0\n",
    "y1 = (math.sqrt(3))*x -((2*math.sqrt(3))+2)\n",
    "x2 = [A[0],O[0]]\n",
    "y2 = [A[1],O[1]]\n",
    "plt.plot(x, y1,label='y=1.732x-5.464')\n",
    "plt.plot(x, y3, '--',label='y=0')\n",
    "plt.plot(x2,y2,'og')\n",
    "\n",
    "#labelling the coordinates\n",
    "\n",
    "plt.annotate(\"A(2,-2)\", (2,-2),ha='right',fontweight='bold')\n",
    "plt.annotate(\"O(0,0)\", (0,0),ha='right',fontweight='bold')\n",
    "plt.xlabel('$x-axis$')\n",
    "plt.ylabel('$y-axis$')\n",
    "plt.xlim(-3, 7)\n",
    "plt.ylim(-3, 7)\n",
    "plt.grid()\n",
    "plt.legend(loc='best')\n",
    "plt.show()"
   ]
  },
  {
   "cell_type": "code",
   "execution_count": null,
   "metadata": {},
   "outputs": [],
   "source": []
  }
 ],
 "metadata": {
  "kernelspec": {
   "display_name": "Python 3",
   "language": "python",
   "name": "python3"
  },
  "language_info": {
   "codemirror_mode": {
    "name": "ipython",
    "version": 3
   },
   "file_extension": ".py",
   "mimetype": "text/x-python",
   "name": "python",
   "nbconvert_exporter": "python",
   "pygments_lexer": "ipython3",
   "version": "3.8.3"
  }
 },
 "nbformat": 4,
 "nbformat_minor": 4
}
