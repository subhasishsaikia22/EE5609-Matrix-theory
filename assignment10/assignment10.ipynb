{
 "cells": [
  {
   "cell_type": "code",
   "execution_count": 13,
   "metadata": {},
   "outputs": [
    {
     "name": "stdout",
     "output_type": "stream",
     "text": [
      "[[1 1 1 1 1]\n",
      " [1 2 2 2 2]\n",
      " [1 2 3 3 3]\n",
      " [1 2 3 4 4]\n",
      " [1 2 3 4 5]]\n",
      "rank of the matrix 5\n"
     ]
    }
   ],
   "source": [
    "import numpy as np\n",
    "import math\n",
    "import matplotlib.pyplot as plt\n",
    "from numpy import linalg as LA\n",
    "from numpy.linalg import matrix_rank\n",
    "#Input parameters\n",
    "x = np.array([[1,1,1,1,1],\n",
    "             [1,2,2,2,2],\n",
    "             [1,2,3,3,3],\n",
    "             [1,2,3,4,4],\n",
    "             [1,2,3,4,5]]) \n",
    "print((x))\n",
    "r=np.linalg.matrix_rank(x)\n",
    "print('rank of the matrix',(r))"
   ]
  },
  {
   "cell_type": "code",
   "execution_count": null,
   "metadata": {},
   "outputs": [],
   "source": []
  },
  {
   "cell_type": "code",
   "execution_count": null,
   "metadata": {},
   "outputs": [],
   "source": []
  }
 ],
 "metadata": {
  "kernelspec": {
   "display_name": "Python 3",
   "language": "python",
   "name": "python3"
  },
  "language_info": {
   "codemirror_mode": {
    "name": "ipython",
    "version": 3
   },
   "file_extension": ".py",
   "mimetype": "text/x-python",
   "name": "python",
   "nbconvert_exporter": "python",
   "pygments_lexer": "ipython3",
   "version": "3.8.3"
  }
 },
 "nbformat": 4,
 "nbformat_minor": 4
}
